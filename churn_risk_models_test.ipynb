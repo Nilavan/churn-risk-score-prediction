{
 "cells": [
  {
   "cell_type": "markdown",
   "metadata": {},
   "source": [
    "# Churn risk score prediction\n",
    "\n",
    "### 1. import libraries"
   ]
  },
  {
   "cell_type": "code",
   "execution_count": 1,
   "metadata": {},
   "outputs": [
    {
     "name": "stderr",
     "output_type": "stream",
     "text": [
      "Using TensorFlow backend.\n",
      "WARNING:root:Limited tf.compat.v2.summary API due to missing TensorBoard installation.\n",
      "WARNING:root:Limited tf.compat.v2.summary API due to missing TensorBoard installation.\n",
      "WARNING:root:Limited tf.compat.v2.summary API due to missing TensorBoard installation.\n",
      "WARNING:root:Limited tf.summary API due to missing TensorBoard installation.\n"
     ]
    }
   ],
   "source": [
    "import pandas as pd\n",
    "import numpy as np\n",
    "import matplotlib.pyplot as plt\n",
    "import seaborn as sns\n",
    "from sklearn import preprocessing\n",
    "from sklearn.tree import DecisionTreeClassifier\n",
    "from sklearn.ensemble import RandomForestClassifier, AdaBoostClassifier\n",
    "from sklearn.metrics import classification_report, confusion_matrix\n",
    "from sklearn.preprocessing import RobustScaler\n",
    "from sklearn.pipeline import make_pipeline\n",
    "from sklearn.model_selection import train_test_split \n",
    "from sklearn.metrics import f1_score\n",
    "from imblearn.over_sampling import SMOTE\n",
    "from xgboost import XGBClassifier, XGBRFClassifier\n",
    "from sklearn.model_selection import RandomizedSearchCV"
   ]
  },
  {
   "cell_type": "markdown",
   "metadata": {},
   "source": [
    "### 2. import train and test and clean data"
   ]
  },
  {
   "cell_type": "code",
   "execution_count": 170,
   "metadata": {},
   "outputs": [],
   "source": [
    "df_train = pd.read_csv('./dataset/train.csv',na_values=['xxxxxxxx','Unknown','?',-999])\n",
    "df_train.avg_frequency_login_days = abs(pd.to_numeric(df_train.avg_frequency_login_days,errors='coerce'))\n",
    "\n",
    "l5 = np.where(df_train['churn_risk_score'] == -1)\n",
    "df_train.drop(l5[0],inplace = True)\n",
    "\n",
    "df_train.medium_of_operation = df_train.medium_of_operation.fillna(value='Both')\n",
    "df_train.gender = df_train.gender.fillna('F')\n",
    "df_train.avg_time_spent = abs(df_train.avg_time_spent)\n",
    "\n",
    "df_test = pd.read_csv('./dataset/test.csv',na_values=['xxxxxxxx','Unknown','?',-999])\n",
    "df_test.avg_frequency_login_days = abs(pd.to_numeric(df_test.avg_frequency_login_days,errors='coerce'))\n",
    "df_test.medium_of_operation = df_test.medium_of_operation.fillna(value='Both')\n",
    "df_test.gender = df_test.gender.fillna('F')\n",
    "df_test.avg_time_spent = abs(df_test.avg_time_spent)"
   ]
  },
  {
   "cell_type": "markdown",
   "metadata": {},
   "source": [
    "### 3. fill NaN and abs points in wallet and get features from joining year"
   ]
  },
  {
   "cell_type": "code",
   "execution_count": 171,
   "metadata": {},
   "outputs": [],
   "source": [
    "cols_nan = ['region_category','joined_through_referral','preferred_offer_types','days_since_last_login','avg_frequency_login_days','points_in_wallet']\n",
    "for col in cols_nan:\n",
    "    if df_train[col].dtype == 'float64':\n",
    "        df_train[col] = df_train[col].fillna(df_train[col].mean())\n",
    "        df_test[col] = df_test[col].fillna(df_test[col].mean())\n",
    "    else:\n",
    "        df_train[col] = df_train[col].fillna(method='ffill') \n",
    "        df_test[col] = df_test[col].fillna(method='ffill')      \n",
    "\n",
    "df_train.points_in_wallet = abs(df_train.points_in_wallet)   \n",
    "df_test.points_in_wallet = abs(df_test.points_in_wallet)\n",
    "\n",
    "df_train.joining_date = pd.to_datetime(df_train.joining_date)\n",
    "df_train['joining_year'] = df_train.joining_date.dt.year\n",
    "df_train['joining_month'] = df_train.joining_date.dt.month\n",
    "df_train['joining_day'] = df_train.joining_date.dt.day\n",
    "df_train.last_visit_time = pd.to_datetime(df_train.last_visit_time)\n",
    "# total days = diff\n",
    "df_train['diff'] = ((df_train['last_visit_time'] - df_train['joining_date']).apply(lambda x:str(x).split()[0])).astype('float64')\n",
    "\n",
    "df_test.joining_date = pd.to_datetime(df_test.joining_date)\n",
    "df_test['joining_year'] = df_test.joining_date.dt.year\n",
    "df_test['joining_month'] = df_test.joining_date.dt.month\n",
    "df_test['joining_day'] = df_test.joining_date.dt.day\n",
    "df_test.last_visit_time = pd.to_datetime(df_test.last_visit_time)\n",
    "df_test['diff'] = ((df_test['last_visit_time'] - df_test['joining_date']).apply(lambda x:str(x).split()[0])).astype('float64')"
   ]
  },
  {
   "cell_type": "markdown",
   "metadata": {},
   "source": [
    "### 4. label encoding"
   ]
  },
  {
   "cell_type": "code",
   "execution_count": 172,
   "metadata": {},
   "outputs": [],
   "source": [
    "le = preprocessing.LabelEncoder()\n",
    "\n",
    "le_cols = ['gender','used_special_discount','offer_application_preference','past_complaint','joined_through_referral','membership_category','feedback']\n",
    "\n",
    "for col in le_cols:\n",
    "    df_train[col] = le.fit_transform(df_train[col])\n",
    "    df_test[col] = le.fit_transform(df_test[col])"
   ]
  },
  {
   "cell_type": "markdown",
   "metadata": {},
   "source": [
    "### 5. one hot encoding"
   ]
  },
  {
   "cell_type": "code",
   "execution_count": 173,
   "metadata": {},
   "outputs": [],
   "source": [
    "one_hot_cols = ['region_category','preferred_offer_types','medium_of_operation','internet_option','complaint_status']\n",
    "\n",
    "df_train = pd.get_dummies(df_train,columns=one_hot_cols,drop_first=True)\n",
    "df_test = pd.get_dummies(df_test,columns=one_hot_cols,drop_first=True)"
   ]
  },
  {
   "cell_type": "markdown",
   "metadata": {},
   "source": [
    "### 6. drop columns and get x and y and x_test"
   ]
  },
  {
   "cell_type": "code",
   "execution_count": 174,
   "metadata": {},
   "outputs": [],
   "source": [
    "cols_to_drop = ['customer_id','Name','security_no','referral_id','joining_date','last_visit_time']\n",
    "df_train.drop(cols_to_drop,axis=1,inplace=True)\n",
    "x = df_train.drop(['churn_risk_score'], axis=1)\n",
    "y = df_train['churn_risk_score']\n",
    "x_test = df_test.drop(cols_to_drop, axis=1)"
   ]
  },
  {
   "cell_type": "markdown",
   "metadata": {},
   "source": [
    "### 7. SMOTE and separate train and cv from df_train (0.7,0.3)"
   ]
  },
  {
   "cell_type": "code",
   "execution_count": 142,
   "metadata": {},
   "outputs": [],
   "source": [
    "oversampler = SMOTE()\n",
    "x_ov, y_ov = oversampler.fit_resample(x,y)\n",
    "\n",
    "x_train, x_cv, y_train, y_cv = train_test_split(x_ov,y_ov,train_size = 0.7,stratify = y_ov)"
   ]
  },
  {
   "cell_type": "code",
   "execution_count": 175,
   "metadata": {},
   "outputs": [],
   "source": [
    "x_train, x_cv, y_train, y_cv = train_test_split(x,y,train_size = 0.7,stratify = y)"
   ]
  },
  {
   "cell_type": "markdown",
   "metadata": {},
   "source": [
    "### 8. Models\n",
    "#### 1. Random forest model"
   ]
  },
  {
   "cell_type": "code",
   "execution_count": 58,
   "metadata": {},
   "outputs": [
    {
     "name": "stdout",
     "output_type": "stream",
     "text": [
      "              precision    recall  f1-score   support\n",
      "\n",
      "           1       0.85      0.84      0.85      3405\n",
      "           2       0.83      0.87      0.85      3404\n",
      "           3       0.87      0.89      0.88      3404\n",
      "           4       0.68      0.58      0.63      3404\n",
      "           5       0.73      0.79      0.76      3405\n",
      "\n",
      "    accuracy                           0.79     17022\n",
      "   macro avg       0.79      0.79      0.79     17022\n",
      "weighted avg       0.79      0.79      0.79     17022\n",
      "\n",
      "0.7939137586652566\n"
     ]
    }
   ],
   "source": [
    "# train\n",
    "\n",
    "rf_model = make_pipeline(RobustScaler(),RandomForestClassifier(class_weight='balanced'))\n",
    "rf_model.fit(x_train,y_train)\n",
    "y_pred = rf_model.predict(x_cv)\n",
    "\n",
    "# cv\n",
    "print(classification_report(y_cv,y_pred))\n",
    "print(f1_score(y_cv,y_pred,average='micro'))"
   ]
  },
  {
   "cell_type": "code",
   "execution_count": 59,
   "metadata": {},
   "outputs": [],
   "source": [
    "rf_model.fit(x,y)\n",
    "result = rf_model.predict(x_test)"
   ]
  },
  {
   "cell_type": "code",
   "execution_count": 70,
   "metadata": {},
   "outputs": [],
   "source": [
    "rf_model.fit(x_ov,y_ov)\n",
    "result = rf_model.predict(x_test)"
   ]
  },
  {
   "cell_type": "code",
   "execution_count": 50,
   "metadata": {},
   "outputs": [
    {
     "data": {
      "image/png": "[encoded data removed]",
      "text/plain": [
       "<Figure size 432x432 with 2 Axes>"
      ]
     },
     "metadata": {
      "needs_background": "light"
     },
     "output_type": "display_data"
    }
   ],
   "source": [
    "# random forest\n",
    "fig = plt.figure(figsize=(6, 6))\n",
    "ax= plt.subplot()\n",
    "cm = confusion_matrix(y_true=y_cv,y_pred=y_pred)\n",
    "sns.heatmap(cm, annot=True, ax = ax, fmt = 'g')\n",
    "ax.set_xlabel('Predicted label')\n",
    "ax.set_ylabel('Actual label')\n",
    "plt.show()"
   ]
  },
  {
   "cell_type": "markdown",
   "metadata": {},
   "source": [
    "#### 2. Random forest with cross validation"
   ]
  },
  {
   "cell_type": "code",
   "execution_count": null,
   "metadata": {},
   "outputs": [],
   "source": [
    "# train\n",
    "\n",
    "rf_model = make_pipeline(RobustScaler(),RandomForestClassifier())\n",
    "\n",
    "distributions = {\n",
    "    'n_estimators': [100,150,200,250,300,400],\n",
    "    'criterion': ['gini', 'entropy'],\n",
    "    'max_depth': [10,40,60,100,150,200,260,300],\n",
    "    'class_weight': ['balanced', 'balanced_subsample', None]\n",
    "}\n",
    "rf_model_cv = RandomizedSearchCV(rf_model.steps[1][1],distributions,n_jobs=-1,scoring='f1_macro')\n",
    "rf_model_cv.fit(x_train,y_train)\n",
    "print(rf_model_cv.best_params_,rf_model_cv.best_score_)"
   ]
  },
  {
   "cell_type": "code",
   "execution_count": 176,
   "metadata": {},
   "outputs": [
    {
     "name": "stdout",
     "output_type": "stream",
     "text": [
      "              precision    recall  f1-score   support\n",
      "\n",
      "           1       0.74      0.71      0.72       796\n",
      "           2       0.73      0.72      0.72       822\n",
      "           3       0.89      0.92      0.90      3127\n",
      "           4       0.70      0.60      0.65      3056\n",
      "           5       0.73      0.82      0.77      2948\n",
      "\n",
      "    accuracy                           0.77     10749\n",
      "   macro avg       0.76      0.75      0.75     10749\n",
      "weighted avg       0.77      0.77      0.77     10749\n",
      "\n",
      "0.7704902781654106\n"
     ]
    }
   ],
   "source": [
    "rf_model_1 = make_pipeline(RobustScaler(),RandomForestClassifier(n_estimators=250,max_depth=60,class_weight='balanced'))\n",
    "rf_model_1.fit(x_train,y_train)\n",
    "y_pred = rf_model_1.predict(x_cv)\n",
    "\n",
    "# cv\n",
    "print(classification_report(y_cv,y_pred))\n",
    "print(f1_score(y_cv,y_pred,average='micro'))"
   ]
  },
  {
   "cell_type": "code",
   "execution_count": 177,
   "metadata": {},
   "outputs": [],
   "source": [
    "rf_model_1.fit(x,y)\n",
    "result = rf_model_1.predict(x_test)"
   ]
  },
  {
   "cell_type": "code",
   "execution_count": 55,
   "metadata": {},
   "outputs": [
    {
     "data": {
      "image/png": "[encoded data removed]",
      "text/plain": [
       "<Figure size 432x432 with 2 Axes>"
      ]
     },
     "metadata": {
      "needs_background": "light"
     },
     "output_type": "display_data"
    }
   ],
   "source": [
    "# rf model cv\n",
    "fig = plt.figure(figsize=(6, 6))\n",
    "ax= plt.subplot()\n",
    "cm = confusion_matrix(y_true=y_cv,y_pred=y_pred)\n",
    "sns.heatmap(cm, annot=True, ax = ax, fmt = 'g')\n",
    "ax.set_xlabel('Predicted label')\n",
    "ax.set_ylabel('Actual label')\n",
    "plt.show()"
   ]
  },
  {
   "cell_type": "markdown",
   "metadata": {},
   "source": [
    "#### 3. Adaboost model"
   ]
  },
  {
   "cell_type": "code",
   "execution_count": 28,
   "metadata": {},
   "outputs": [
    {
     "name": "stdout",
     "output_type": "stream",
     "text": [
      "              precision    recall  f1-score   support\n",
      "\n",
      "           1       0.53      0.15      0.23       796\n",
      "           2       0.51      0.63      0.57       822\n",
      "           3       0.71      0.66      0.68      3127\n",
      "           4       0.28      0.19      0.23      3405\n",
      "           5       0.46      0.72      0.56      2948\n",
      "\n",
      "    accuracy                           0.49     11098\n",
      "   macro avg       0.50      0.47      0.45     11098\n",
      "weighted avg       0.48      0.49      0.47     11098\n",
      "\n",
      "0.4935123445665886\n"
     ]
    }
   ],
   "source": [
    "ada_model = make_pipeline(RobustScaler(),AdaBoostClassifier())\n",
    "ada_model.fit(x_train,y_train)\n",
    "y_pred = ada_model.predict(x_cv)\n",
    "\n",
    "print(classification_report(y_cv,y_pred))\n",
    "print(f1_score(y_cv,y_pred,average='micro'))"
   ]
  },
  {
   "cell_type": "code",
   "execution_count": 29,
   "metadata": {},
   "outputs": [
    {
     "data": {
      "image/png": "[encoded data removed]",
      "text/plain": [
       "<Figure size 432x432 with 2 Axes>"
      ]
     },
     "metadata": {
      "needs_background": "light"
     },
     "output_type": "display_data"
    }
   ],
   "source": [
    "# adaboost\n",
    "fig = plt.figure(figsize=(6, 6))\n",
    "ax= plt.subplot()\n",
    "cm = confusion_matrix(y_true=y_cv,y_pred=y_pred)\n",
    "sns.heatmap(cm, annot=True, ax = ax, fmt = 'g')\n",
    "ax.set_xlabel('Predicted label')\n",
    "ax.set_ylabel('Actual label')\n",
    "plt.show()"
   ]
  },
  {
   "cell_type": "markdown",
   "metadata": {},
   "source": [
    "#### 4. xgboost normal"
   ]
  },
  {
   "cell_type": "code",
   "execution_count": 30,
   "metadata": {},
   "outputs": [
    {
     "name": "stdout",
     "output_type": "stream",
     "text": [
      "              precision    recall  f1-score   support\n",
      "\n",
      "           1       0.66      0.91      0.77       796\n",
      "           2       0.85      0.59      0.70       822\n",
      "           3       0.90      0.87      0.89      3127\n",
      "           4       0.70      0.62      0.66      3405\n",
      "           5       0.72      0.83      0.77      2948\n",
      "\n",
      "    accuracy                           0.77     11098\n",
      "   macro avg       0.77      0.77      0.76     11098\n",
      "weighted avg       0.77      0.77      0.76     11098\n",
      "\n",
      "0.7666246170481168\n"
     ]
    }
   ],
   "source": [
    "xgb_model_n = make_pipeline(RobustScaler(),XGBClassifier())\n",
    "xgb_model_n.fit(x_train,y_train)\n",
    "y_pred = xgb_model_n.predict(x_cv)\n",
    "\n",
    "print(classification_report(y_cv,y_pred))\n",
    "print(f1_score(y_cv,y_pred,average='micro'))"
   ]
  },
  {
   "cell_type": "code",
   "execution_count": 13,
   "metadata": {},
   "outputs": [],
   "source": [
    "xgb_model_n.fit(x,y)\n",
    "result = xgb_model_n.predict(x_test)"
   ]
  },
  {
   "cell_type": "code",
   "execution_count": 31,
   "metadata": {},
   "outputs": [
    {
     "data": {
      "image/png": "[encoded data removed]",
      "text/plain": [
       "<Figure size 432x432 with 2 Axes>"
      ]
     },
     "metadata": {
      "needs_background": "light"
     },
     "output_type": "display_data"
    }
   ],
   "source": [
    "# xgboost\n",
    "fig = plt.figure(figsize=(6, 6))\n",
    "ax= plt.subplot()\n",
    "cm = confusion_matrix(y_true=y_cv,y_pred=y_pred)\n",
    "sns.heatmap(cm, annot=True, ax = ax, fmt = 'g')\n",
    "ax.set_xlabel('Predicted label')\n",
    "ax.set_ylabel('Actual label')\n",
    "plt.show()"
   ]
  },
  {
   "cell_type": "markdown",
   "metadata": {},
   "source": [
    "#### 5. xgboost model with cv ( hyperparameter tuning by https://www.kaggle.com/sumanthhabib/hackerearth-customer-churn-risk-rate-prediction#EDA )"
   ]
  },
  {
   "cell_type": "code",
   "execution_count": null,
   "metadata": {},
   "outputs": [],
   "source": [
    "xgc = XGBClassifier()\n",
    "\n",
    "params={'learning_rate':[0.05,0.1,0.15,0.2],\n",
    "       'max_depth':[3,4,5,6,8,10],\n",
    "       'min_child_weight':[1,3,5,7],\n",
    "       'gamma':[0.0,0.1,0.2,0.3,0.4,0.5],\n",
    "       'colsample_bytree':[0.3,0.4,0.5,0.7]}\n",
    "rsearch=RandomizedSearchCV(xgc,param_distributions=params,n_iter=100,cv=3,random_state=42,n_jobs=-1)\n",
    "rsearch.fit(x,y)\n",
    "rsearch.best_parameter_ "
   ]
  },
  {
   "cell_type": "code",
   "execution_count": 166,
   "metadata": {},
   "outputs": [
    {
     "name": "stdout",
     "output_type": "stream",
     "text": [
      "              precision    recall  f1-score   support\n",
      "\n",
      "           1       0.72      0.89      0.80       796\n",
      "           2       0.87      0.67      0.75       822\n",
      "           3       0.91      0.92      0.92      3127\n",
      "           4       0.76      0.55      0.64      3056\n",
      "           5       0.71      0.91      0.79      2948\n",
      "\n",
      "    accuracy                           0.79     10749\n",
      "   macro avg       0.79      0.79      0.78     10749\n",
      "weighted avg       0.80      0.79      0.78     10749\n",
      "\n",
      "0.779964951957206\n"
     ]
    }
   ],
   "source": [
    "xgb_model = make_pipeline(RobustScaler(),XGBClassifier(colsample_bytree=0.7, gamma=0.4, max_depth=4, min_child_weight=3, n_estimators=119, objective='multi:softprob'))\n",
    "xgb_model.fit(x_train,y_train)\n",
    "y_pred = xgb_model.predict(x_cv)\n",
    "\n",
    "print(classification_report(y_cv,y_pred))\n",
    "print(f1_score(y_cv,y_pred,average='macro'))"
   ]
  },
  {
   "cell_type": "code",
   "execution_count": 167,
   "metadata": {},
   "outputs": [],
   "source": [
    "xgb_model.fit(x,y)\n",
    "result = xgb_model.predict(x_test)"
   ]
  },
  {
   "cell_type": "code",
   "execution_count": 157,
   "metadata": {},
   "outputs": [
    {
     "data": {
      "image/png": "[encoded data removed]",
      "text/plain": [
       "<Figure size 432x432 with 2 Axes>"
      ]
     },
     "metadata": {
      "needs_background": "light"
     },
     "output_type": "display_data"
    }
   ],
   "source": [
    "# xgb with cv\n",
    "fig = plt.figure(figsize=(6, 6))\n",
    "ax= plt.subplot()\n",
    "cm = confusion_matrix(y_true=y_cv,y_pred=y_pred)\n",
    "sns.heatmap(cm, annot=True, ax = ax, fmt = 'g')\n",
    "ax.set_xlabel('Predicted label')\n",
    "ax.set_ylabel('Actual label')\n",
    "plt.show()"
   ]
  },
  {
   "cell_type": "markdown",
   "metadata": {},
   "source": [
    "#### 6. xgbrf model"
   ]
  },
  {
   "cell_type": "code",
   "execution_count": 41,
   "metadata": {},
   "outputs": [
    {
     "name": "stdout",
     "output_type": "stream",
     "text": [
      "              precision    recall  f1-score   support\n",
      "\n",
      "           1       0.71      0.66      0.68      3405\n",
      "           2       0.69      0.77      0.73      3404\n",
      "           3       0.79      0.81      0.80      3404\n",
      "           4       0.59      0.60      0.60      3404\n",
      "           5       0.70      0.64      0.67      3405\n",
      "\n",
      "    accuracy                           0.70     17022\n",
      "   macro avg       0.70      0.70      0.70     17022\n",
      "weighted avg       0.70      0.70      0.70     17022\n",
      "\n",
      "0.6962754082951474\n"
     ]
    }
   ],
   "source": [
    "xgbrf_model = make_pipeline(RobustScaler(),XGBRFClassifier())\n",
    "xgbrf_model.fit(x_train,y_train)\n",
    "y_pred = xgbrf_model.predict(x_cv)\n",
    "\n",
    "print(classification_report(y_cv,y_pred))\n",
    "print(f1_score(y_cv,y_pred,average='micro'))"
   ]
  },
  {
   "cell_type": "code",
   "execution_count": 42,
   "metadata": {},
   "outputs": [],
   "source": [
    "xgbrf_model.fit(x,y)\n",
    "result = xgbrf_model.predict(x_test)"
   ]
  },
  {
   "cell_type": "markdown",
   "metadata": {},
   "source": [
    "## 9. Submit"
   ]
  },
  {
   "cell_type": "code",
   "execution_count": 178,
   "metadata": {},
   "outputs": [
    {
     "name": "stdout",
     "output_type": "stream",
     "text": [
      "5    6115\n",
      "3    5866\n",
      "4    4959\n",
      "1    1626\n",
      "2    1353\n",
      "Name: churn_risk_score, dtype: int64\n"
     ]
    }
   ],
   "source": [
    "submission = pd.DataFrame({\n",
    "    'customer_id': df_test['customer_id'],\n",
    "    'churn_risk_score': result,\n",
    "})\n",
    "\n",
    "print(submission['churn_risk_score'].value_counts())\n",
    "\n",
    "submission.to_csv('sub55.csv', index=False)"
   ]
  },
  {
   "cell_type": "code",
   "execution_count": null,
   "metadata": {},
   "outputs": [],
   "source": []
  }
 ],
 "metadata": {
  "kernelspec": {
   "display_name": "Python 3",
   "language": "python",
   "name": "python3"
  },
  "language_info": {
   "codemirror_mode": {
    "name": "ipython",
    "version": 3
   },
   "file_extension": ".py",
   "mimetype": "text/x-python",
   "name": "python",
   "nbconvert_exporter": "python",
   "pygments_lexer": "ipython3",
   "version": "3.7.6"
  }
 },
 "nbformat": 4,
 "nbformat_minor": 4
}